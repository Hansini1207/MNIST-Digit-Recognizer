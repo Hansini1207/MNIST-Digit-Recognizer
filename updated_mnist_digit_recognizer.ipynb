{
  "cells": [
    {
      "cell_type": "code",
      "source": [
        "import pandas as pd\n",
        "import numpy as np\n",
        "import tensorflow as tf\n",
        "from tensorflow.keras import layers, models\n",
        "from tensorflow.keras.utils import to_categorical\n",
        "\n",
        "train_data = pd.read_csv('train.csv')\n",
        "test_data = pd.read_csv('test.csv')\n",
        "\n",
        "x_train = train_data.iloc[:, 1:].values / 255.0  # Normalize pixel values, skipping the label column\n",
        "y_train = train_data.iloc[:, 0].values  # Labels are the first column\n",
        "\n",
        "x_test = test_data.values / 255.0  # Normalize pixel values\n",
        "\n",
        "x_train = x_train.reshape(-1, 28, 28, 1)\n",
        "x_test = x_test.reshape(-1, 28, 28, 1)\n",
        "\n",
        "# One-hot encode the labels for training\n",
        "y_train = to_categorical(y_train, 10)\n",
        "\n",
        "cnn_model = models.Sequential([\n",
        "    layers.Conv2D(32, (3, 3), activation='relu', input_shape=(28, 28, 1)),\n",
        "    layers.MaxPooling2D((2, 2)),\n",
        "    layers.Conv2D(64, (3, 3), activation='relu'),\n",
        "    layers.MaxPooling2D((2, 2)),\n",
        "    layers.Flatten(),\n",
        "    layers.Dense(128, activation='relu'),\n",
        "    layers.Dense(10, activation='softmax')\n",
        "])\n",
        "\n",
        "cnn_model.compile(optimizer='adam',\n",
        "                  loss='categorical_crossentropy',\n",
        "                  metrics=['accuracy'])\n",
        "\n",
        "cnn_model.fit(x_train, y_train, epochs=10, batch_size=64, validation_split=0.2)\n",
        "\n",
        "train_loss, train_acc = cnn_model.evaluate(x_train, y_train, verbose=2)\n",
        "print(f\"CNN Training accuracy: {train_acc:.4f}\")\n"
      ],
      "metadata": {
        "colab": {
          "base_uri": "https://localhost:8080/"
        },
        "id": "hj586LQU_7HJ",
        "outputId": "14fb827b-f24c-4ae6-a2af-e7e2a35722e9"
      },
      "execution_count": null,
      "outputs": [
        {
          "output_type": "stream",
          "name": "stderr",
          "text": [
            "/usr/local/lib/python3.10/dist-packages/keras/src/layers/convolutional/base_conv.py:107: UserWarning: Do not pass an `input_shape`/`input_dim` argument to a layer. When using Sequential models, prefer using an `Input(shape)` object as the first layer in the model instead.\n",
            "  super().__init__(activity_regularizer=activity_regularizer, **kwargs)\n"
          ]
        },
        {
          "output_type": "stream",
          "name": "stdout",
          "text": [
            "Epoch 1/10\n",
            "\u001b[1m525/525\u001b[0m \u001b[32m━━━━━━━━━━━━━━━━━━━━\u001b[0m\u001b[37m\u001b[0m \u001b[1m33s\u001b[0m 59ms/step - accuracy: 0.8499 - loss: 0.4921 - val_accuracy: 0.9758 - val_loss: 0.0764\n",
            "Epoch 2/10\n",
            "\u001b[1m525/525\u001b[0m \u001b[32m━━━━━━━━━━━━━━━━━━━━\u001b[0m\u001b[37m\u001b[0m \u001b[1m42s\u001b[0m 62ms/step - accuracy: 0.9822 - loss: 0.0595 - val_accuracy: 0.9831 - val_loss: 0.0558\n",
            "Epoch 3/10\n",
            "\u001b[1m525/525\u001b[0m \u001b[32m━━━━━━━━━━━━━━━━━━━━\u001b[0m\u001b[37m\u001b[0m \u001b[1m38s\u001b[0m 58ms/step - accuracy: 0.9881 - loss: 0.0388 - val_accuracy: 0.9864 - val_loss: 0.0429\n",
            "Epoch 4/10\n",
            "\u001b[1m525/525\u001b[0m \u001b[32m━━━━━━━━━━━━━━━━━━━━\u001b[0m\u001b[37m\u001b[0m \u001b[1m41s\u001b[0m 57ms/step - accuracy: 0.9912 - loss: 0.0261 - val_accuracy: 0.9849 - val_loss: 0.0471\n",
            "Epoch 5/10\n",
            "\u001b[1m525/525\u001b[0m \u001b[32m━━━━━━━━━━━━━━━━━━━━\u001b[0m\u001b[37m\u001b[0m \u001b[1m41s\u001b[0m 58ms/step - accuracy: 0.9940 - loss: 0.0199 - val_accuracy: 0.9881 - val_loss: 0.0414\n",
            "Epoch 6/10\n",
            "\u001b[1m525/525\u001b[0m \u001b[32m━━━━━━━━━━━━━━━━━━━━\u001b[0m\u001b[37m\u001b[0m \u001b[1m41s\u001b[0m 57ms/step - accuracy: 0.9961 - loss: 0.0130 - val_accuracy: 0.9867 - val_loss: 0.0468\n",
            "Epoch 7/10\n",
            "\u001b[1m525/525\u001b[0m \u001b[32m━━━━━━━━━━━━━━━━━━━━\u001b[0m\u001b[37m\u001b[0m \u001b[1m32s\u001b[0m 61ms/step - accuracy: 0.9961 - loss: 0.0127 - val_accuracy: 0.9887 - val_loss: 0.0435\n",
            "Epoch 8/10\n",
            "\u001b[1m525/525\u001b[0m \u001b[32m━━━━━━━━━━━━━━━━━━━━\u001b[0m\u001b[37m\u001b[0m \u001b[1m30s\u001b[0m 58ms/step - accuracy: 0.9969 - loss: 0.0090 - val_accuracy: 0.9887 - val_loss: 0.0398\n",
            "Epoch 9/10\n",
            "\u001b[1m525/525\u001b[0m \u001b[32m━━━━━━━━━━━━━━━━━━━━\u001b[0m\u001b[37m\u001b[0m \u001b[1m41s\u001b[0m 58ms/step - accuracy: 0.9977 - loss: 0.0074 - val_accuracy: 0.9890 - val_loss: 0.0454\n",
            "Epoch 10/10\n",
            "\u001b[1m525/525\u001b[0m \u001b[32m━━━━━━━━━━━━━━━━━━━━\u001b[0m\u001b[37m\u001b[0m \u001b[1m41s\u001b[0m 57ms/step - accuracy: 0.9976 - loss: 0.0068 - val_accuracy: 0.9868 - val_loss: 0.0550\n",
            "1313/1313 - 12s - 9ms/step - accuracy: 0.9952 - loss: 0.0168\n",
            "CNN Training accuracy: 0.9952\n"
          ]
        }
      ]
    },
    {
      "cell_type": "code",
      "source": [
        "from sklearn.decomposition import PCA\n",
        "from sklearn.neighbors import KNeighborsClassifier\n",
        "from sklearn.svm import SVC\n",
        "from sklearn.tree import DecisionTreeClassifier\n",
        "from sklearn.ensemble import RandomForestClassifier\n",
        "from sklearn.metrics import accuracy_score\n",
        "from sklearn.model_selection import train_test_split\n",
        "\n",
        "x_train_flat = x_train.reshape(x_train.shape[0], -1)\n",
        "x_test_flat = x_test.reshape(x_test.shape[0], -1)\n",
        "\n",
        "# Apply PCA to reduce the dimensions\n",
        "pca = PCA(n_components=50)\n",
        "x_train_pca = pca.fit_transform(x_train_flat)\n",
        "x_test_pca = pca.transform(x_test_flat)\n",
        "\n",
        "x_train_split, x_val_split, y_train_split, y_val_split = train_test_split(x_train_pca, y_train, test_size=0.2, random_state=42)\n",
        "\n",
        "classifiers = {\n",
        "    \"KNN\": KNeighborsClassifier(),\n",
        "    \"SVM\": SVC(),\n",
        "    \"Decision Tree\": DecisionTreeClassifier(),\n",
        "    \"Random Forest\": RandomForestClassifier()\n",
        "}\n",
        "\n",
        "# Train and evaluate each model\n",
        "model_accuracies = {}\n",
        "\n",
        "for name, clf in classifiers.items():\n",
        "    y_train_split_1d = np.argmax(y_train_split, axis=1)\n",
        "    y_val_split_1d = np.argmax(y_val_split, axis=1)\n",
        "    clf.fit(x_train_split, y_train_split_1d)\n",
        "    y_pred = clf.predict(x_val_split)\n",
        "    accuracy = accuracy_score(y_val_split_1d, y_pred)\n",
        "    model_accuracies[name] = accuracy\n",
        "\n",
        "# Accuracy of each model\n",
        "for name, accuracy in model_accuracies.items():\n",
        "    print(f\"{name} Model Accuracy: {accuracy:.4f}\")\n",
        "print(f\"\\nCNN Accuracy: {train_acc:.4f}\\n\")\n",
        "\n",
        "best_model = \"CNN\" if train_acc > max(model_accuracies.values()) else max(model_accuracies, key=model_accuracies.get)\n",
        "print(f\"The best model is: {best_model}\")"
      ],
      "metadata": {
        "colab": {
          "base_uri": "https://localhost:8080/"
        },
        "id": "qbAC4hhl_9yC",
        "outputId": "b794a58d-b404-4a05-c2d6-9adedebb5dae"
      },
      "execution_count": null,
      "outputs": [
        {
          "output_type": "stream",
          "name": "stdout",
          "text": [
            "KNN Model Accuracy: 0.9726\n",
            "SVM Model Accuracy: 0.9777\n",
            "Decision Tree Model Accuracy: 0.8274\n",
            "Random Forest Model Accuracy: 0.9487\n",
            "\n",
            "CNN Accuracy: 0.9952\n",
            "\n",
            "The best model is: CNN\n"
          ]
        }
      ]
    },
    {
      "cell_type": "code",
      "source": [
        "import numpy as np\n",
        "import pandas as pd\n",
        "from google.colab import files\n",
        "\n",
        "y_pred_cnn = cnn_model.predict(x_test)\n",
        "\n",
        "# Convert the predicted probabilities to class labels\n",
        "y_pred_labels = np.argmax(y_pred_cnn, axis=1)\n",
        "\n",
        "output_df = pd.DataFrame({\n",
        "    'ImageId': np.arange(1, len(y_pred_labels) + 1),\n",
        "    'Label': y_pred_labels\n",
        "})\n",
        "\n",
        "output_file = 'mnist_predictions_cnn.csv'\n",
        "output_df.to_csv(output_file, index=False)\n",
        "\n",
        "files.download(output_file)"
      ],
      "metadata": {
        "colab": {
          "base_uri": "https://localhost:8080/",
          "height": 34
        },
        "id": "jcYBGt2bABjv",
        "outputId": "68b28103-8930-4641-bb34-20eba1462012"
      },
      "execution_count": null,
      "outputs": [
        {
          "output_type": "stream",
          "name": "stdout",
          "text": [
            "\u001b[1m875/875\u001b[0m \u001b[32m━━━━━━━━━━━━━━━━━━━━\u001b[0m\u001b[37m\u001b[0m \u001b[1m11s\u001b[0m 12ms/step\n"
          ]
        },
        {
          "output_type": "display_data",
          "data": {
            "text/plain": [
              "<IPython.core.display.Javascript object>"
            ],
            "application/javascript": [
              "\n",
              "    async function download(id, filename, size) {\n",
              "      if (!google.colab.kernel.accessAllowed) {\n",
              "        return;\n",
              "      }\n",
              "      const div = document.createElement('div');\n",
              "      const label = document.createElement('label');\n",
              "      label.textContent = `Downloading \"${filename}\": `;\n",
              "      div.appendChild(label);\n",
              "      const progress = document.createElement('progress');\n",
              "      progress.max = size;\n",
              "      div.appendChild(progress);\n",
              "      document.body.appendChild(div);\n",
              "\n",
              "      const buffers = [];\n",
              "      let downloaded = 0;\n",
              "\n",
              "      const channel = await google.colab.kernel.comms.open(id);\n",
              "      // Send a message to notify the kernel that we're ready.\n",
              "      channel.send({})\n",
              "\n",
              "      for await (const message of channel.messages) {\n",
              "        // Send a message to notify the kernel that we're ready.\n",
              "        channel.send({})\n",
              "        if (message.buffers) {\n",
              "          for (const buffer of message.buffers) {\n",
              "            buffers.push(buffer);\n",
              "            downloaded += buffer.byteLength;\n",
              "            progress.value = downloaded;\n",
              "          }\n",
              "        }\n",
              "      }\n",
              "      const blob = new Blob(buffers, {type: 'application/binary'});\n",
              "      const a = document.createElement('a');\n",
              "      a.href = window.URL.createObjectURL(blob);\n",
              "      a.download = filename;\n",
              "      div.appendChild(a);\n",
              "      a.click();\n",
              "      div.remove();\n",
              "    }\n",
              "  "
            ]
          },
          "metadata": {}
        },
        {
          "output_type": "display_data",
          "data": {
            "text/plain": [
              "<IPython.core.display.Javascript object>"
            ],
            "application/javascript": [
              "download(\"download_7d38bd60-09f0-46ed-9ab9-05bc366e2cd4\", \"mnist_predictions_cnn.csv\", 212908)"
            ]
          },
          "metadata": {}
        }
      ]
    }
  ],
  "metadata": {
    "colab": {
      "provenance": []
    },
    "kaggle": {
      "accelerator": "none",
      "dataSources": [
        {
          "databundleVersionId": 861823,
          "sourceId": 3004,
          "sourceType": "competition"
        }
      ],
      "dockerImageVersionId": 30786,
      "isGpuEnabled": false,
      "isInternetEnabled": true,
      "language": "python",
      "sourceType": "notebook"
    },
    "kernelspec": {
      "display_name": "Python 3",
      "language": "python",
      "name": "python3"
    },
    "language_info": {
      "codemirror_mode": {
        "name": "ipython",
        "version": 3
      },
      "file_extension": ".py",
      "mimetype": "text/x-python",
      "name": "python",
      "nbconvert_exporter": "python",
      "pygments_lexer": "ipython3",
      "version": "3.10.14"
    }
  },
  "nbformat": 4,
  "nbformat_minor": 0
}